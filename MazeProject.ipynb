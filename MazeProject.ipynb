{
 "cells": [
  {
   "cell_type": "markdown",
   "metadata": {
    "id": "ZktOdi11pcda"
   },
   "source": [
    "#### 1.\tChose a suitable representation of the maze nodes using the available Python data structures. You must define all attributes representing the information you need \n",
    "\n",
    "#### 6. Build the representation of the maze by creating start node, end node and red nodes according to the diagram on Fig. 1.\n",
    "\n",
    "\n"
   ]
  },
  {
   "cell_type": "code",
   "execution_count": 2,
   "metadata": {
    "id": "x9rJpb5npZU0"
   },
   "outputs": [],
   "source": [
    "maze = [[0, 1, 0, 0, 0, 0],\n",
    "        [0, 0, 0, 0, 0, 0],\n",
    "        [0, 1, 0, 1, 0, 0],\n",
    "        [0, 1, 0, 0, 1, 0],\n",
    "        [0, 0, 0, 0, 1, 0]]\n",
    "\n",
    "start = (0, 0)\n",
    "end   = (4, 5)"
   ]
  },
  {
   "cell_type": "markdown",
   "metadata": {
    "id": "gFNZFPhgpg0A"
   },
   "source": [
    "#### 2.\tDefine the success criteria for reaching the end node.\n",
    "#### 3.\tDefine the path function which accumulates the past nodes into a path\n",
    "#### 5.\tDefine the algorithm for heuristic search considering the success criteria, the permitted moves in each node and the cost"
   ]
  },
  {
   "cell_type": "code",
   "execution_count": 3,
   "metadata": {
    "id": "pZYhebNJgVvD"
   },
   "outputs": [],
   "source": [
    "class Node():\n",
    "\n",
    "    def __init__(self, parent=None, position=None):\n",
    "        self.parent, self.position = parent, position\n",
    "        self.g, self.h, self.f = 0, 0, 0\n",
    "         \n",
    "\n",
    "\n",
    "\n",
    "def Search(maze, start, end, h):\n",
    "\n",
    "    # Create start and end node\n",
    "    start_node      = Node(None, start)\n",
    "    end_node        = Node(None, end)\n",
    "    start_node.f    = 0       \n",
    "    end_node.f      = 0       \n",
    "    open_list       = []      # Initialize both open \n",
    "    closed_list     = []      # and closed list\n",
    "\n",
    "    \n",
    "    open_list.append(start_node)  # Add the start node\n",
    "\n",
    "    # Loop until you find the end\n",
    "    while len(open_list) > 0: \n",
    "\n",
    "        # Get the current node # \n",
    "        current_node = open_list[0]\n",
    "        current_index = 0\n",
    "        for index, item in enumerate(open_list):  #\n",
    "            if item.f < current_node.f:  # we are not using this for now\n",
    "                current_node = item\n",
    "                current_index = index\n",
    "\n",
    "        # Pop current off open list, add to closed list\n",
    "        open_list.pop(current_index)\n",
    "        closed_list.append(current_node)\n",
    "        \n",
    "        # Found the goal\n",
    "        if current_node.position == end_node.position:\n",
    "            path = []\n",
    "            current = current_node\n",
    "            while current is not None:\n",
    "                path.append(current.position)\n",
    "                current = current.parent\n",
    "            return path[::-1] # Return reversed path\n",
    "            \n",
    "        \n",
    "        # Generate neighbors\n",
    "        neighbors = []\n",
    "        for direction in [(0, -1), (0, 1), (-1, 0), (1, 0)]: # Adjacent squares # , (-1, -1), (-1, 1), (1, -1), (1, 1) for diagonal\n",
    "\n",
    "            # Get node position\n",
    "            node_position = (current_node.position[0] + direction[0], current_node.position[1] + direction[1])\n",
    "\n",
    "            # Make sure within range # if one them is true ,go back to the for with the next element\n",
    "            if node_position[0] > (len(maze) - 1) or node_position[0] < 0 or node_position[1] > (len(maze[0]) -1) or node_position[1] < 0:\n",
    "                continue\n",
    "\n",
    "            # Make sure walkable terrain\n",
    "            if maze[node_position[0]][node_position[1]] != 0:\n",
    "                continue\n",
    "\n",
    "            # Create new node\n",
    "            new_node = Node(current_node, node_position)\n",
    "\n",
    "            # Append\n",
    "            neighbors.append(new_node)\n",
    "\n",
    "        # Loop through neighbors\n",
    "        for new_neighbor in neighbors:\n",
    "\n",
    "            new_neighbor.g, new_neighbor.h, new_neighbor.f = h(new_neighbor, current_node, end_node)\n",
    "\n",
    "            open_list.append(new_neighbor)\n",
    "\n",
    "           # print(\"\")\n",
    "           # print(\"Current Node: \", current_node.position, \"Neighbor: \", new_neighbor.position, \"f: \", new_neighbor.f, \"g: \", new_neighbor.g, \"h: \", new_neighbor.h)\n",
    "           # print(\"Number of visited nodes: \", len(closed_list))\n",
    "           # for i in range(len(maze)):\n",
    "           #     for j in range(len(maze[0])):\n",
    "           #         if (i, j) == current_node.position:\n",
    "           #             print(\"C\", end=\" \")\n",
    "           #         elif (i, j) == new_neighbor.position:\n",
    "           #             print(\"N\", end=\" \")\n",
    "           #         elif (i, j) in [x.position for x in open_list]:\n",
    "           #             print(\"O\", end=\" \")\n",
    "           #        else:\n",
    "           #             print(maze[i][j], end=\" \")\n",
    "           #     print()\n",
    "\n"
   ]
  },
  {
   "cell_type": "markdown",
   "metadata": {
    "id": "k0bGoHj5pmMV"
   },
   "source": [
    "#### 4.\tDefine suitable heuristic function to estimate the cost on each path \n",
    "\n",
    " ####\tImplement additional algorithm for solving the problem using different technique Constraint Propagation, Dejkstra\n",
    "####\tImplement the A* with different heuristic function\t\n"
   ]
  },
  {
   "cell_type": "markdown",
   "metadata": {
    "id": "ocg7BbJwr9zc"
   },
   "source": [
    "\n",
    "### Dijkstra\n",
    "##### Similar algorithm to Astar but unlike Astar, Dijkstra's algorithm uses a heuristic identically equal to 0.\n",
    "\n",
    "##### We just need to assign a value to each node, for that we will use the distance g and the cost from the star node to that node, that cost is already entered into the calculation of g."
   ]
  },
  {
   "cell_type": "markdown",
   "metadata": {
    "id": "0jy0ghLmto5g"
   },
   "source": [
    "### CSP\n",
    "##### This is an adaptation to the Knapsack problem. We assign a value to each node, taking into account the final node, in our case the estimated distance from the final node, from how we defined the problem, to find the path with the minimum value.\n",
    "\n",
    "##### So it is enough just to set the function g to zero."
   ]
  },
  {
   "cell_type": "markdown",
   "metadata": {
    "id": "ohUO72iHv_a_"
   },
   "source": [
    "### Generic\n",
    "\n",
    "##### I wanted to try a genetic algorithm eliminating the total cost to see the automatic path it does."
   ]
  },
  {
   "cell_type": "code",
   "execution_count": 4,
   "metadata": {
    "id": "NC4MIubCga-C"
   },
   "outputs": [],
   "source": [
    "def Astar(new_neighbor, current_node, end_node):\n",
    "    Manhattan  = abs(new_neighbor.position[0] - end_node.position[0])  + abs(new_neighbor.position[1] - end_node.position[1])\n",
    "    Euclidean  = (((new_neighbor.position[0] - end_node.position[0]) ** 2) + ((new_neighbor.position[1] - end_node.position[1]) ** 2))**0.5\n",
    "    Minkowsky  = (abs((new_neighbor.position[0] - end_node.position[0]) ** 3) + abs((new_neighbor.position[1] - end_node.position[1]) ** 3))**(1/3)\n",
    "    Chebyshev  = max(new_neighbor.position[0] - end_node.position[0]  , new_neighbor.position[1] - end_node.position[1])\n",
    "    new_neighbor.g = current_node.g + 1\n",
    "    new_neighbor.h = Euclidean\n",
    "    new_neighbor.f = new_neighbor.g + new_neighbor.h\n",
    "    return new_neighbor.g, new_neighbor.h, new_neighbor.f\n",
    "\n",
    "def Dijkstra(new_neighbor, current_node, end_node):\n",
    "    new_neighbor.g = current_node.g + 1\n",
    "    new_neighbor.h = 0\n",
    "    new_neighbor.f = new_neighbor.g + new_neighbor.h\n",
    "    return new_neighbor.g, new_neighbor.h, new_neighbor.f\n",
    "\n",
    "def CSP(new_neighbor, current_node, end_node):\n",
    "    Manhattan  = abs(new_neighbor.position[0] - end_node.position[0])  + abs(new_neighbor.position[1] - end_node.position[1])\n",
    "    Euclidean  = (((new_neighbor.position[0] - end_node.position[0]) ** 2) + ((new_neighbor.position[1] - end_node.position[1]) ** 2))**0.5\n",
    "    Minkowsky  = (abs((new_neighbor.position[0] - end_node.position[0]) ** 3) + abs((new_neighbor.position[1] - end_node.position[1]) ** 3))**(1/3)\n",
    "    Chebyshev  = max(new_neighbor.position[0] - end_node.position[0]  , new_neighbor.position[1] - end_node.position[1])\n",
    "    new_neighbor.g = 0\n",
    "    new_neighbor.h = Euclidean\n",
    "    new_neighbor.f = new_neighbor.g + new_neighbor.h\n",
    "    return new_neighbor.g, new_neighbor.h, new_neighbor.f\n",
    "\n",
    "def Generic(new_neighbor, current_node, end_node):\n",
    "    new_neighbor.g = 0\n",
    "    new_neighbor.h = 0\n",
    "    new_neighbor.f = new_neighbor.g + new_neighbor.h\n",
    "    return new_neighbor.g, new_neighbor.h, new_neighbor.f\n",
    "\n"
   ]
  },
  {
   "cell_type": "markdown",
   "metadata": {
    "id": "RDQ2JKh5qCL_"
   },
   "source": [
    "#### 7.\tRun the program and output the optimal path found by the algorithm"
   ]
  },
  {
   "cell_type": "code",
   "execution_count": 5,
   "metadata": {
    "colab": {
     "base_uri": "https://localhost:8080/"
    },
    "id": "u-dk2nRBgeYq",
    "outputId": "1ddbde6a-3360-49ba-de8b-d111581e6d18"
   },
   "outputs": [],
   "source": [
    "path = Search(maze, start, end, h = Astar)"
   ]
  },
  {
   "cell_type": "code",
   "execution_count": 6,
   "metadata": {
    "colab": {
     "base_uri": "https://localhost:8080/"
    },
    "id": "uqEYhCh_ggDi",
    "outputId": "d8ee3334-969d-4dc8-b9f3-ba28be75eeac"
   },
   "outputs": [
    {
     "name": "stdout",
     "output_type": "stream",
     "text": [
      "The shortest path is:  [(0, 0), (1, 0), (1, 1), (1, 2), (1, 3), (1, 4), (1, 5), (2, 5), (3, 5), (4, 5)]\n"
     ]
    }
   ],
   "source": [
    "print(\"The shortest path is: \", path)\n"
   ]
  },
  {
   "cell_type": "markdown",
   "metadata": {
    "id": "Fc4q3xVaqf6w"
   },
   "source": [
    "####\tDesign a board to represent the maze in 2D plain (in text or graphics mode)\t            \n",
    "####\tTrace the attempted nodes during the search process\t\t\t\t            \n",
    "####\tVisualize the search paths during the execution \n"
   ]
  },
  {
   "cell_type": "code",
   "execution_count": 7,
   "metadata": {
    "colab": {
     "base_uri": "https://localhost:8080/",
     "height": 352
    },
    "id": "7EzsHlkmgiHp",
    "outputId": "5486713b-7bf5-426a-adfb-9685a569592a"
   },
   "outputs": [
    {
     "name": "stdout",
     "output_type": "stream",
     "text": [
      "[2, 1, 0, 0, 0, 0]\n",
      "[2, 2, 2, 2, 2, 2]\n",
      "[0, 1, 0, 1, 0, 2]\n",
      "[0, 1, 0, 0, 1, 2]\n",
      "[0, 0, 0, 0, 1, 2]\n"
     ]
    },
    {
     "data": {
      "image/png": "[encoded data removed]",
      "text/plain": [
       "<Figure size 432x288 with 1 Axes>"
      ]
     },
     "metadata": {
      "needs_background": "light"
     },
     "output_type": "display_data"
    }
   ],
   "source": [
    "for i in range(len(maze)):\n",
    "    for j in range(len(maze[i])):\n",
    "        if (i, j) in path:\n",
    "            maze[i][j]=2\n",
    "    print(maze[i])\n",
    "    \n",
    "\n",
    "import numpy as np\n",
    "from matplotlib import pyplot as plt\n",
    "\n",
    "dct = {1: 7.6, 0: 10., 2: 5.}\n",
    "n = [[dct[i] for i in j] for j in maze]\n",
    "#print(n)\n",
    "\n",
    "plt.imshow(n, cmap='gist_ncar', vmin=1, vmax=10)\n",
    "plt.grid(color='black')\n",
    "ax = plt.gca()\n",
    "ax.set_xticks(np.arange(0, 6, 1)+0.5)\n",
    "ax.set_yticks(np.arange(0, 5, 1)+0.5)\n",
    "ax.set_xticklabels(np.arange(0, 6, 1))\n",
    "ax.set_yticklabels(np.arange(0, 5, 1))\n",
    "\n",
    "plt.show()"
   ]
  },
  {
   "cell_type": "code",
   "execution_count": 8,
   "metadata": {
    "colab": {
     "base_uri": "https://localhost:8080/"
    },
    "id": "qANisIF3gkTA",
    "outputId": "35cce61b-d97a-40b9-f949-096fcaeff62f"
   },
   "outputs": [
    {
     "name": "stdout",
     "output_type": "stream",
     "text": [
      "0.0 seconds\n",
      "\n",
      "[(0, 0), (1, 0), (1, 1), (1, 2), (1, 3), (1, 4), (1, 5), (2, 5), (3, 5), (4, 5)]\n"
     ]
    }
   ],
   "source": [
    "#import time\n",
    "\n",
    "#t = time.time()\n",
    "#print(round(time.time() - t, 2), f'seconds\\n\\n{path}')"
   ]
  },
  {
   "cell_type": "markdown",
   "metadata": {
    "id": "YNSZot3xE1JG"
   },
   "source": [
    "###### They would all look similar because in fact they give me the optimal path, but the number of nodes visiting (hence the execution time) is not the same. Using A* as a heuristic with Manathan, it is the most effective because it visits only 22 nodes, with the Euclidean it visits 32 nodes. Dijkstra visits 1276 nodes, CSP visits only 9 before arriving at the end node."
   ]
  },
  {
   "cell_type": "code",
   "execution_count": null,
   "metadata": {},
   "outputs": [],
   "source": []
  }
 ],
 "metadata": {
  "colab": {
   "provenance": []
  },
  "kernelspec": {
   "display_name": "Python 3",
   "language": "python",
   "name": "python3"
  },
  "language_info": {
   "codemirror_mode": {
    "name": "ipython",
    "version": 3
   },
   "file_extension": ".py",
   "mimetype": "text/x-python",
   "name": "python",
   "nbconvert_exporter": "python",
   "pygments_lexer": "ipython3",
   "version": "3.6.8"
  }
 },
 "nbformat": 4,
 "nbformat_minor": 1
}
